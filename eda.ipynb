{
 "cells": [
  {
   "cell_type": "code",
   "execution_count": 357,
   "id": "b489cb9e",
   "metadata": {},
   "outputs": [],
   "source": [
    "import numpy as np\n",
    "import pandas as pd\n",
    "import matplotlib.pyplot as plt\n",
    "import seaborn as sns\n",
    "import matplotlib as mpl\n",
    "mpl.rcParams.update(mpl.rcParamsDefault) "
   ]
  },
  {
   "cell_type": "markdown",
   "id": "d07912a0",
   "metadata": {},
   "source": [
    "# Context"
   ]
  },
  {
   "cell_type": "markdown",
   "id": "096da632",
   "metadata": {},
   "source": [
    "Для иследования нам предоставлена набор данных о пассажирах Титаника. \n",
    "Набор данных, используемый для этого исследования, является синтетическим, но основан на реальном наборе данных (в данном случае, фактических данных Титаника!) и сгенерирован с использованием CTGAN."
   ]
  },
  {
   "cell_type": "markdown",
   "id": "c1cbf65d",
   "metadata": {},
   "source": [
    "Выполним загрузку данных из файла csv."
   ]
  },
  {
   "cell_type": "code",
   "execution_count": 358,
   "id": "0c45e1fc",
   "metadata": {},
   "outputs": [],
   "source": [
    "data_titanic = pd.read_csv(\"train.csv\")"
   ]
  },
  {
   "cell_type": "markdown",
   "id": "baa111b8",
   "metadata": {},
   "source": [
    "Посмотрим на сам набор данных для иследования и определим размер данного датасета."
   ]
  },
  {
   "cell_type": "code",
   "execution_count": 359,
   "id": "1b767480",
   "metadata": {},
   "outputs": [
    {
     "data": {
      "text/html": [
       "<div>\n",
       "<style scoped>\n",
       "    .dataframe tbody tr th:only-of-type {\n",
       "        vertical-align: middle;\n",
       "    }\n",
       "\n",
       "    .dataframe tbody tr th {\n",
       "        vertical-align: top;\n",
       "    }\n",
       "\n",
       "    .dataframe thead th {\n",
       "        text-align: right;\n",
       "    }\n",
       "</style>\n",
       "<table border=\"1\" class=\"dataframe\">\n",
       "  <thead>\n",
       "    <tr style=\"text-align: right;\">\n",
       "      <th></th>\n",
       "      <th>PassengerId</th>\n",
       "      <th>Survived</th>\n",
       "      <th>Pclass</th>\n",
       "      <th>Name</th>\n",
       "      <th>Sex</th>\n",
       "      <th>Age</th>\n",
       "      <th>SibSp</th>\n",
       "      <th>Parch</th>\n",
       "      <th>Ticket</th>\n",
       "      <th>Fare</th>\n",
       "      <th>Cabin</th>\n",
       "      <th>Embarked</th>\n",
       "    </tr>\n",
       "  </thead>\n",
       "  <tbody>\n",
       "    <tr>\n",
       "      <th>0</th>\n",
       "      <td>0</td>\n",
       "      <td>1</td>\n",
       "      <td>1</td>\n",
       "      <td>Oconnor, Frankie</td>\n",
       "      <td>male</td>\n",
       "      <td>NaN</td>\n",
       "      <td>2</td>\n",
       "      <td>0</td>\n",
       "      <td>209245</td>\n",
       "      <td>27.14</td>\n",
       "      <td>C12239</td>\n",
       "      <td>S</td>\n",
       "    </tr>\n",
       "    <tr>\n",
       "      <th>1</th>\n",
       "      <td>1</td>\n",
       "      <td>0</td>\n",
       "      <td>3</td>\n",
       "      <td>Bryan, Drew</td>\n",
       "      <td>male</td>\n",
       "      <td>NaN</td>\n",
       "      <td>0</td>\n",
       "      <td>0</td>\n",
       "      <td>27323</td>\n",
       "      <td>13.35</td>\n",
       "      <td>NaN</td>\n",
       "      <td>S</td>\n",
       "    </tr>\n",
       "    <tr>\n",
       "      <th>2</th>\n",
       "      <td>2</td>\n",
       "      <td>0</td>\n",
       "      <td>3</td>\n",
       "      <td>Owens, Kenneth</td>\n",
       "      <td>male</td>\n",
       "      <td>0.33</td>\n",
       "      <td>1</td>\n",
       "      <td>2</td>\n",
       "      <td>CA 457703</td>\n",
       "      <td>71.29</td>\n",
       "      <td>NaN</td>\n",
       "      <td>S</td>\n",
       "    </tr>\n",
       "    <tr>\n",
       "      <th>3</th>\n",
       "      <td>3</td>\n",
       "      <td>0</td>\n",
       "      <td>3</td>\n",
       "      <td>Kramer, James</td>\n",
       "      <td>male</td>\n",
       "      <td>19.00</td>\n",
       "      <td>0</td>\n",
       "      <td>0</td>\n",
       "      <td>A. 10866</td>\n",
       "      <td>13.04</td>\n",
       "      <td>NaN</td>\n",
       "      <td>S</td>\n",
       "    </tr>\n",
       "    <tr>\n",
       "      <th>4</th>\n",
       "      <td>4</td>\n",
       "      <td>1</td>\n",
       "      <td>3</td>\n",
       "      <td>Bond, Michael</td>\n",
       "      <td>male</td>\n",
       "      <td>25.00</td>\n",
       "      <td>0</td>\n",
       "      <td>0</td>\n",
       "      <td>427635</td>\n",
       "      <td>7.76</td>\n",
       "      <td>NaN</td>\n",
       "      <td>S</td>\n",
       "    </tr>\n",
       "    <tr>\n",
       "      <th>5</th>\n",
       "      <td>5</td>\n",
       "      <td>0</td>\n",
       "      <td>2</td>\n",
       "      <td>Sassano, Jonathan</td>\n",
       "      <td>male</td>\n",
       "      <td>35.00</td>\n",
       "      <td>0</td>\n",
       "      <td>0</td>\n",
       "      <td>13363</td>\n",
       "      <td>6.71</td>\n",
       "      <td>NaN</td>\n",
       "      <td>S</td>\n",
       "    </tr>\n",
       "    <tr>\n",
       "      <th>6</th>\n",
       "      <td>6</td>\n",
       "      <td>0</td>\n",
       "      <td>3</td>\n",
       "      <td>Conway, Jose</td>\n",
       "      <td>male</td>\n",
       "      <td>7.00</td>\n",
       "      <td>0</td>\n",
       "      <td>0</td>\n",
       "      <td>A/5</td>\n",
       "      <td>9.77</td>\n",
       "      <td>NaN</td>\n",
       "      <td>S</td>\n",
       "    </tr>\n",
       "    <tr>\n",
       "      <th>7</th>\n",
       "      <td>7</td>\n",
       "      <td>1</td>\n",
       "      <td>3</td>\n",
       "      <td>Werner, Linda</td>\n",
       "      <td>female</td>\n",
       "      <td>6.00</td>\n",
       "      <td>1</td>\n",
       "      <td>2</td>\n",
       "      <td>434426</td>\n",
       "      <td>31.50</td>\n",
       "      <td>NaN</td>\n",
       "      <td>S</td>\n",
       "    </tr>\n",
       "    <tr>\n",
       "      <th>8</th>\n",
       "      <td>8</td>\n",
       "      <td>0</td>\n",
       "      <td>1</td>\n",
       "      <td>Wardlaw, Michael</td>\n",
       "      <td>male</td>\n",
       "      <td>27.00</td>\n",
       "      <td>2</td>\n",
       "      <td>1</td>\n",
       "      <td>474849</td>\n",
       "      <td>73.02</td>\n",
       "      <td>A7253</td>\n",
       "      <td>S</td>\n",
       "    </tr>\n",
       "    <tr>\n",
       "      <th>9</th>\n",
       "      <td>9</td>\n",
       "      <td>0</td>\n",
       "      <td>2</td>\n",
       "      <td>Greigo, Rudy</td>\n",
       "      <td>male</td>\n",
       "      <td>66.00</td>\n",
       "      <td>0</td>\n",
       "      <td>0</td>\n",
       "      <td>6981</td>\n",
       "      <td>9.14</td>\n",
       "      <td>D2969</td>\n",
       "      <td>C</td>\n",
       "    </tr>\n",
       "    <tr>\n",
       "      <th>10</th>\n",
       "      <td>10</td>\n",
       "      <td>0</td>\n",
       "      <td>3</td>\n",
       "      <td>Nichols, William</td>\n",
       "      <td>male</td>\n",
       "      <td>31.00</td>\n",
       "      <td>0</td>\n",
       "      <td>0</td>\n",
       "      <td>459690</td>\n",
       "      <td>8.06</td>\n",
       "      <td>NaN</td>\n",
       "      <td>S</td>\n",
       "    </tr>\n",
       "    <tr>\n",
       "      <th>11</th>\n",
       "      <td>11</td>\n",
       "      <td>0</td>\n",
       "      <td>1</td>\n",
       "      <td>Telschow, Robert</td>\n",
       "      <td>male</td>\n",
       "      <td>60.00</td>\n",
       "      <td>0</td>\n",
       "      <td>0</td>\n",
       "      <td>19600</td>\n",
       "      <td>31.50</td>\n",
       "      <td>A9055</td>\n",
       "      <td>S</td>\n",
       "    </tr>\n",
       "    <tr>\n",
       "      <th>12</th>\n",
       "      <td>12</td>\n",
       "      <td>0</td>\n",
       "      <td>3</td>\n",
       "      <td>Stewart, Pat</td>\n",
       "      <td>male</td>\n",
       "      <td>36.00</td>\n",
       "      <td>0</td>\n",
       "      <td>0</td>\n",
       "      <td>434108</td>\n",
       "      <td>9.34</td>\n",
       "      <td>C8674</td>\n",
       "      <td>S</td>\n",
       "    </tr>\n",
       "    <tr>\n",
       "      <th>13</th>\n",
       "      <td>13</td>\n",
       "      <td>1</td>\n",
       "      <td>2</td>\n",
       "      <td>Raef, Phillip</td>\n",
       "      <td>male</td>\n",
       "      <td>50.00</td>\n",
       "      <td>0</td>\n",
       "      <td>0</td>\n",
       "      <td>3790453</td>\n",
       "      <td>7.88</td>\n",
       "      <td>NaN</td>\n",
       "      <td>Q</td>\n",
       "    </tr>\n",
       "    <tr>\n",
       "      <th>14</th>\n",
       "      <td>14</td>\n",
       "      <td>1</td>\n",
       "      <td>1</td>\n",
       "      <td>Seaton, Karen</td>\n",
       "      <td>female</td>\n",
       "      <td>44.00</td>\n",
       "      <td>0</td>\n",
       "      <td>1</td>\n",
       "      <td>12425</td>\n",
       "      <td>28.40</td>\n",
       "      <td>D6945</td>\n",
       "      <td>C</td>\n",
       "    </tr>\n",
       "    <tr>\n",
       "      <th>15</th>\n",
       "      <td>15</td>\n",
       "      <td>1</td>\n",
       "      <td>3</td>\n",
       "      <td>Estrada, Nancy</td>\n",
       "      <td>female</td>\n",
       "      <td>57.00</td>\n",
       "      <td>0</td>\n",
       "      <td>0</td>\n",
       "      <td>A/S 53862</td>\n",
       "      <td>9.31</td>\n",
       "      <td>NaN</td>\n",
       "      <td>S</td>\n",
       "    </tr>\n",
       "    <tr>\n",
       "      <th>16</th>\n",
       "      <td>16</td>\n",
       "      <td>0</td>\n",
       "      <td>3</td>\n",
       "      <td>Feller, Jimmie</td>\n",
       "      <td>male</td>\n",
       "      <td>53.00</td>\n",
       "      <td>0</td>\n",
       "      <td>0</td>\n",
       "      <td>NaN</td>\n",
       "      <td>7.92</td>\n",
       "      <td>NaN</td>\n",
       "      <td>S</td>\n",
       "    </tr>\n",
       "    <tr>\n",
       "      <th>17</th>\n",
       "      <td>17</td>\n",
       "      <td>0</td>\n",
       "      <td>1</td>\n",
       "      <td>Geiger, Maria</td>\n",
       "      <td>male</td>\n",
       "      <td>43.00</td>\n",
       "      <td>0</td>\n",
       "      <td>0</td>\n",
       "      <td>487299</td>\n",
       "      <td>29.84</td>\n",
       "      <td>NaN</td>\n",
       "      <td>S</td>\n",
       "    </tr>\n",
       "    <tr>\n",
       "      <th>18</th>\n",
       "      <td>18</td>\n",
       "      <td>0</td>\n",
       "      <td>2</td>\n",
       "      <td>Barren, Albert</td>\n",
       "      <td>male</td>\n",
       "      <td>25.00</td>\n",
       "      <td>0</td>\n",
       "      <td>0</td>\n",
       "      <td>24142</td>\n",
       "      <td>8.85</td>\n",
       "      <td>NaN</td>\n",
       "      <td>S</td>\n",
       "    </tr>\n",
       "    <tr>\n",
       "      <th>19</th>\n",
       "      <td>19</td>\n",
       "      <td>1</td>\n",
       "      <td>1</td>\n",
       "      <td>Hall, Stephanie</td>\n",
       "      <td>female</td>\n",
       "      <td>61.00</td>\n",
       "      <td>0</td>\n",
       "      <td>4</td>\n",
       "      <td>PC 174821</td>\n",
       "      <td>205.01</td>\n",
       "      <td>B7010</td>\n",
       "      <td>Q</td>\n",
       "    </tr>\n",
       "  </tbody>\n",
       "</table>\n",
       "</div>"
      ],
      "text/plain": [
       "    PassengerId  Survived  Pclass               Name     Sex    Age  SibSp  \\\n",
       "0             0         1       1   Oconnor, Frankie    male    NaN      2   \n",
       "1             1         0       3        Bryan, Drew    male    NaN      0   \n",
       "2             2         0       3     Owens, Kenneth    male   0.33      1   \n",
       "3             3         0       3      Kramer, James    male  19.00      0   \n",
       "4             4         1       3      Bond, Michael    male  25.00      0   \n",
       "5             5         0       2  Sassano, Jonathan    male  35.00      0   \n",
       "6             6         0       3       Conway, Jose    male   7.00      0   \n",
       "7             7         1       3      Werner, Linda  female   6.00      1   \n",
       "8             8         0       1   Wardlaw, Michael    male  27.00      2   \n",
       "9             9         0       2       Greigo, Rudy    male  66.00      0   \n",
       "10           10         0       3   Nichols, William    male  31.00      0   \n",
       "11           11         0       1   Telschow, Robert    male  60.00      0   \n",
       "12           12         0       3       Stewart, Pat    male  36.00      0   \n",
       "13           13         1       2      Raef, Phillip    male  50.00      0   \n",
       "14           14         1       1      Seaton, Karen  female  44.00      0   \n",
       "15           15         1       3     Estrada, Nancy  female  57.00      0   \n",
       "16           16         0       3     Feller, Jimmie    male  53.00      0   \n",
       "17           17         0       1      Geiger, Maria    male  43.00      0   \n",
       "18           18         0       2     Barren, Albert    male  25.00      0   \n",
       "19           19         1       1    Hall, Stephanie  female  61.00      0   \n",
       "\n",
       "    Parch     Ticket    Fare   Cabin Embarked  \n",
       "0       0     209245   27.14  C12239        S  \n",
       "1       0      27323   13.35     NaN        S  \n",
       "2       2  CA 457703   71.29     NaN        S  \n",
       "3       0   A. 10866   13.04     NaN        S  \n",
       "4       0     427635    7.76     NaN        S  \n",
       "5       0      13363    6.71     NaN        S  \n",
       "6       0       A/5     9.77     NaN        S  \n",
       "7       2     434426   31.50     NaN        S  \n",
       "8       1     474849   73.02   A7253        S  \n",
       "9       0       6981    9.14   D2969        C  \n",
       "10      0     459690    8.06     NaN        S  \n",
       "11      0      19600   31.50   A9055        S  \n",
       "12      0     434108    9.34   C8674        S  \n",
       "13      0    3790453    7.88     NaN        Q  \n",
       "14      1      12425   28.40   D6945        C  \n",
       "15      0  A/S 53862    9.31     NaN        S  \n",
       "16      0        NaN    7.92     NaN        S  \n",
       "17      0     487299   29.84     NaN        S  \n",
       "18      0      24142    8.85     NaN        S  \n",
       "19      4  PC 174821  205.01   B7010        Q  "
      ]
     },
     "execution_count": 359,
     "metadata": {},
     "output_type": "execute_result"
    }
   ],
   "source": [
    "data_titanic.head(20)"
   ]
  },
  {
   "cell_type": "markdown",
   "id": "340bc07d",
   "metadata": {},
   "source": [
    "Видим что в датасете содержится 100000 строк и 12 столбцов с данными о пассажирах.\n",
    "\n",
    "Данные представлены следующими столбцами:\n",
    "\n",
    "'PassengerId': Id пассажира\n",
    "\n",
    "'Survived': Выжил пассажир или нет (0-не выжил, 1-выжил)\n",
    "\n",
    "'Pclass': Класс билета (1 = Первый класс, 2 = Второй класс, 3 = Третий класс)\n",
    "\n",
    "'Name': Имя пассажира\n",
    "\n",
    "'Sex': Пол пассажира\n",
    "\n",
    "'Age': Возраст в годах\n",
    "\n",
    "'SibSp': Количество братьев и сестер/супругов на борту Титаника\n",
    "\n",
    "'Parch': Родителей/детей на борту Титаника\n",
    "\n",
    "'Ticket': Номер билета\n",
    "\n",
    "'Fare': Цена билета пассажира\n",
    "\n",
    "'Cabin': Номер кабины\n",
    "\n",
    "'Embarked': Порт посадки (C = Cherbourg, Q = Queenstown, S = Southampton)"
   ]
  },
  {
   "cell_type": "markdown",
   "id": "9b4320c6",
   "metadata": {},
   "source": [
    "# Data quality assessment"
   ]
  },
  {
   "cell_type": "markdown",
   "id": "5db22353",
   "metadata": {},
   "source": [
    "Посмотрим для каждого столбца количество ненулевых значений и тип данных."
   ]
  },
  {
   "cell_type": "code",
   "execution_count": 360,
   "id": "59d715b4",
   "metadata": {},
   "outputs": [
    {
     "name": "stdout",
     "output_type": "stream",
     "text": [
      "<class 'pandas.core.frame.DataFrame'>\n",
      "RangeIndex: 100000 entries, 0 to 99999\n",
      "Data columns (total 12 columns):\n",
      " #   Column       Non-Null Count   Dtype  \n",
      "---  ------       --------------   -----  \n",
      " 0   PassengerId  100000 non-null  int64  \n",
      " 1   Survived     100000 non-null  int64  \n",
      " 2   Pclass       100000 non-null  int64  \n",
      " 3   Name         100000 non-null  object \n",
      " 4   Sex          100000 non-null  object \n",
      " 5   Age          96708 non-null   float64\n",
      " 6   SibSp        100000 non-null  int64  \n",
      " 7   Parch        100000 non-null  int64  \n",
      " 8   Ticket       95377 non-null   object \n",
      " 9   Fare         99866 non-null   float64\n",
      " 10  Cabin        32134 non-null   object \n",
      " 11  Embarked     99750 non-null   object \n",
      "dtypes: float64(2), int64(5), object(5)\n",
      "memory usage: 9.2+ MB\n"
     ]
    }
   ],
   "source": [
    "data_titanic.info()"
   ]
  },
  {
   "cell_type": "markdown",
   "id": "1c310331",
   "metadata": {},
   "source": [
    "Итак, у нас есть 5 полей типа int, 2 поля типа float, а остальные поля типа object. Приведенная выше информация очень поможет, когда мы применим различные вычисления на уровне столбца."
   ]
  },
  {
   "cell_type": "markdown",
   "id": "f8a69cfa",
   "metadata": {},
   "source": [
    "Ответим на пару вопросов:\n",
    "    \n",
    "    -в данных не имеется числовых значений в виде строк\n",
    "    \n",
    "    -не существует переменных, которые являются числовыми, но на самом деле должны быть категориальными"
   ]
  },
  {
   "cell_type": "markdown",
   "id": "63fd3f89",
   "metadata": {},
   "source": [
    "Проверим количество нулевых значений в нашем наборе по каждому столбцу."
   ]
  },
  {
   "cell_type": "code",
   "execution_count": 361,
   "id": "d73c88d6",
   "metadata": {
    "scrolled": true
   },
   "outputs": [
    {
     "data": {
      "text/plain": [
       "PassengerId        0\n",
       "Survived           0\n",
       "Pclass             0\n",
       "Name               0\n",
       "Sex                0\n",
       "Age             3292\n",
       "SibSp              0\n",
       "Parch              0\n",
       "Ticket          4623\n",
       "Fare             134\n",
       "Cabin          67866\n",
       "Embarked         250\n",
       "dtype: int64"
      ]
     },
     "execution_count": 361,
     "metadata": {},
     "output_type": "execute_result"
    }
   ],
   "source": [
    "data_titanic.isnull().sum()"
   ]
  },
  {
   "cell_type": "markdown",
   "id": "6d7d5181",
   "metadata": {},
   "source": [
    "Как видим есть некоторые столбцы в которых есть пропущенные данные (Age,Ticket,Fare,Cabin,Embarked).\n",
    "Поступить можно по-разному и либо отбросить отсутствующие значения, если их немного, либо заполнить их средними или медианными значениями с помощью функции Pandas data.fillna()."
   ]
  },
  {
   "cell_type": "markdown",
   "id": "6cbf871e",
   "metadata": {},
   "source": [
    "Сделаем так с данными из столбца Age. Заполним пропущеные данные средними значениями по возрасту среди всех."
   ]
  },
  {
   "cell_type": "code",
   "execution_count": 362,
   "id": "b45746fa",
   "metadata": {},
   "outputs": [],
   "source": [
    "data_titanic['Age'].fillna((data_titanic['Age'].mean()), inplace=True)"
   ]
  },
  {
   "cell_type": "markdown",
   "id": "30acd1c5",
   "metadata": {},
   "source": [
    "Так же заполним пропущенные значения столбца Fare средними по цене. Но сделаем это в разрезе данных Pclass, так как можем заметить, что средняя цена на билет зависит от класса билета. Чем выше класс билета, тем выше будет цена на билет. "
   ]
  },
  {
   "cell_type": "code",
   "execution_count": 363,
   "id": "bdc5719e",
   "metadata": {},
   "outputs": [
    {
     "data": {
      "text/plain": [
       "Pclass\n",
       "1    92.653113\n",
       "2    25.756003\n",
       "3    20.618226\n",
       "Name: Fare, dtype: float64"
      ]
     },
     "execution_count": 363,
     "metadata": {},
     "output_type": "execute_result"
    }
   ],
   "source": [
    "data_titanic.groupby('Pclass')['Fare'].mean()"
   ]
  },
  {
   "cell_type": "markdown",
   "id": "5bcdcf67",
   "metadata": {},
   "source": [
    "Заполним пропуски в разрезе столбца Pclass"
   ]
  },
  {
   "cell_type": "code",
   "execution_count": 364,
   "id": "0f0a55b7",
   "metadata": {},
   "outputs": [],
   "source": [
    "data_titanic['Fare'] = data_titanic.groupby('Pclass')['Fare'].apply(lambda x: x.fillna(x.mean()))"
   ]
  },
  {
   "cell_type": "markdown",
   "id": "388a0ad0",
   "metadata": {},
   "source": [
    "Проверим заполнилеись ли данные"
   ]
  },
  {
   "cell_type": "code",
   "execution_count": 365,
   "id": "8365073f",
   "metadata": {},
   "outputs": [
    {
     "data": {
      "text/plain": [
       "PassengerId        0\n",
       "Survived           0\n",
       "Pclass             0\n",
       "Name               0\n",
       "Sex                0\n",
       "Age                0\n",
       "SibSp              0\n",
       "Parch              0\n",
       "Ticket          4623\n",
       "Fare               0\n",
       "Cabin          67866\n",
       "Embarked         250\n",
       "dtype: int64"
      ]
     },
     "execution_count": 365,
     "metadata": {},
     "output_type": "execute_result"
    }
   ],
   "source": [
    "data_titanic.isnull().sum()"
   ]
  },
  {
   "cell_type": "markdown",
   "id": "d588f26c",
   "metadata": {},
   "source": [
    "Как видим пропущенные данные заполнились средними значениями."
   ]
  },
  {
   "cell_type": "markdown",
   "id": "ebaf3a74",
   "metadata": {},
   "source": [
    "Посмотрим на статистические результаты по числовым данным."
   ]
  },
  {
   "cell_type": "code",
   "execution_count": 366,
   "id": "ca0dba4b",
   "metadata": {},
   "outputs": [
    {
     "data": {
      "text/html": [
       "<div>\n",
       "<style scoped>\n",
       "    .dataframe tbody tr th:only-of-type {\n",
       "        vertical-align: middle;\n",
       "    }\n",
       "\n",
       "    .dataframe tbody tr th {\n",
       "        vertical-align: top;\n",
       "    }\n",
       "\n",
       "    .dataframe thead th {\n",
       "        text-align: right;\n",
       "    }\n",
       "</style>\n",
       "<table border=\"1\" class=\"dataframe\">\n",
       "  <thead>\n",
       "    <tr style=\"text-align: right;\">\n",
       "      <th></th>\n",
       "      <th>PassengerId</th>\n",
       "      <th>Survived</th>\n",
       "      <th>Pclass</th>\n",
       "      <th>Age</th>\n",
       "      <th>SibSp</th>\n",
       "      <th>Parch</th>\n",
       "      <th>Fare</th>\n",
       "    </tr>\n",
       "  </thead>\n",
       "  <tbody>\n",
       "    <tr>\n",
       "      <th>count</th>\n",
       "      <td>100000.000000</td>\n",
       "      <td>100000.000000</td>\n",
       "      <td>100000.000000</td>\n",
       "      <td>100000.000000</td>\n",
       "      <td>100000.000000</td>\n",
       "      <td>100000.000000</td>\n",
       "      <td>100000.000000</td>\n",
       "    </tr>\n",
       "    <tr>\n",
       "      <th>mean</th>\n",
       "      <td>49999.500000</td>\n",
       "      <td>0.427740</td>\n",
       "      <td>2.106910</td>\n",
       "      <td>38.355472</td>\n",
       "      <td>0.397690</td>\n",
       "      <td>0.454560</td>\n",
       "      <td>43.929065</td>\n",
       "    </tr>\n",
       "    <tr>\n",
       "      <th>std</th>\n",
       "      <td>28867.657797</td>\n",
       "      <td>0.494753</td>\n",
       "      <td>0.837727</td>\n",
       "      <td>18.009589</td>\n",
       "      <td>0.862566</td>\n",
       "      <td>0.950076</td>\n",
       "      <td>69.552036</td>\n",
       "    </tr>\n",
       "    <tr>\n",
       "      <th>min</th>\n",
       "      <td>0.000000</td>\n",
       "      <td>0.000000</td>\n",
       "      <td>1.000000</td>\n",
       "      <td>0.080000</td>\n",
       "      <td>0.000000</td>\n",
       "      <td>0.000000</td>\n",
       "      <td>0.680000</td>\n",
       "    </tr>\n",
       "    <tr>\n",
       "      <th>25%</th>\n",
       "      <td>24999.750000</td>\n",
       "      <td>0.000000</td>\n",
       "      <td>1.000000</td>\n",
       "      <td>25.000000</td>\n",
       "      <td>0.000000</td>\n",
       "      <td>0.000000</td>\n",
       "      <td>10.040000</td>\n",
       "    </tr>\n",
       "    <tr>\n",
       "      <th>50%</th>\n",
       "      <td>49999.500000</td>\n",
       "      <td>0.000000</td>\n",
       "      <td>2.000000</td>\n",
       "      <td>38.355472</td>\n",
       "      <td>0.000000</td>\n",
       "      <td>0.000000</td>\n",
       "      <td>24.470000</td>\n",
       "    </tr>\n",
       "    <tr>\n",
       "      <th>75%</th>\n",
       "      <td>74999.250000</td>\n",
       "      <td>1.000000</td>\n",
       "      <td>3.000000</td>\n",
       "      <td>53.000000</td>\n",
       "      <td>1.000000</td>\n",
       "      <td>1.000000</td>\n",
       "      <td>33.500000</td>\n",
       "    </tr>\n",
       "    <tr>\n",
       "      <th>max</th>\n",
       "      <td>99999.000000</td>\n",
       "      <td>1.000000</td>\n",
       "      <td>3.000000</td>\n",
       "      <td>87.000000</td>\n",
       "      <td>8.000000</td>\n",
       "      <td>9.000000</td>\n",
       "      <td>744.660000</td>\n",
       "    </tr>\n",
       "  </tbody>\n",
       "</table>\n",
       "</div>"
      ],
      "text/plain": [
       "         PassengerId       Survived         Pclass            Age  \\\n",
       "count  100000.000000  100000.000000  100000.000000  100000.000000   \n",
       "mean    49999.500000       0.427740       2.106910      38.355472   \n",
       "std     28867.657797       0.494753       0.837727      18.009589   \n",
       "min         0.000000       0.000000       1.000000       0.080000   \n",
       "25%     24999.750000       0.000000       1.000000      25.000000   \n",
       "50%     49999.500000       0.000000       2.000000      38.355472   \n",
       "75%     74999.250000       1.000000       3.000000      53.000000   \n",
       "max     99999.000000       1.000000       3.000000      87.000000   \n",
       "\n",
       "               SibSp          Parch           Fare  \n",
       "count  100000.000000  100000.000000  100000.000000  \n",
       "mean        0.397690       0.454560      43.929065  \n",
       "std         0.862566       0.950076      69.552036  \n",
       "min         0.000000       0.000000       0.680000  \n",
       "25%         0.000000       0.000000      10.040000  \n",
       "50%         0.000000       0.000000      24.470000  \n",
       "75%         1.000000       1.000000      33.500000  \n",
       "max         8.000000       9.000000     744.660000  "
      ]
     },
     "execution_count": 366,
     "metadata": {},
     "output_type": "execute_result"
    }
   ],
   "source": [
    "data_titanic.describe()"
   ]
  },
  {
   "cell_type": "markdown",
   "id": "7d427cf0",
   "metadata": {},
   "source": [
    "Глядя на эти данные можем сделать некоторые предварительные выводы по этим данным:\n",
    "\n",
    "-средний возраст пассажиров на титанике составлял 38,35 лет\n",
    "\n",
    "-максимальный возраст составлял 87 лет, а минимальный 0,08 лет (1 месяц) \n",
    "\n",
    "-средняя цена за билет составила 43,92 доллара\n",
    "\n",
    "-максимальная цена за билет составила 744,66 доллара, а минимальная 68 центов"
   ]
  },
  {
   "cell_type": "markdown",
   "id": "97a565c5",
   "metadata": {},
   "source": [
    "Посмотрим на статистические результаты по категориальным данным."
   ]
  },
  {
   "cell_type": "code",
   "execution_count": 367,
   "id": "c715b637",
   "metadata": {},
   "outputs": [
    {
     "data": {
      "text/html": [
       "<div>\n",
       "<style scoped>\n",
       "    .dataframe tbody tr th:only-of-type {\n",
       "        vertical-align: middle;\n",
       "    }\n",
       "\n",
       "    .dataframe tbody tr th {\n",
       "        vertical-align: top;\n",
       "    }\n",
       "\n",
       "    .dataframe thead th {\n",
       "        text-align: right;\n",
       "    }\n",
       "</style>\n",
       "<table border=\"1\" class=\"dataframe\">\n",
       "  <thead>\n",
       "    <tr style=\"text-align: right;\">\n",
       "      <th></th>\n",
       "      <th>Name</th>\n",
       "      <th>Sex</th>\n",
       "      <th>Ticket</th>\n",
       "      <th>Cabin</th>\n",
       "      <th>Embarked</th>\n",
       "    </tr>\n",
       "  </thead>\n",
       "  <tbody>\n",
       "    <tr>\n",
       "      <th>count</th>\n",
       "      <td>100000</td>\n",
       "      <td>100000</td>\n",
       "      <td>95377</td>\n",
       "      <td>32134</td>\n",
       "      <td>99750</td>\n",
       "    </tr>\n",
       "    <tr>\n",
       "      <th>unique</th>\n",
       "      <td>92144</td>\n",
       "      <td>2</td>\n",
       "      <td>75331</td>\n",
       "      <td>26992</td>\n",
       "      <td>3</td>\n",
       "    </tr>\n",
       "    <tr>\n",
       "      <th>top</th>\n",
       "      <td>Johnson, John</td>\n",
       "      <td>male</td>\n",
       "      <td>A/5</td>\n",
       "      <td>C19828</td>\n",
       "      <td>S</td>\n",
       "    </tr>\n",
       "    <tr>\n",
       "      <th>freq</th>\n",
       "      <td>31</td>\n",
       "      <td>56114</td>\n",
       "      <td>602</td>\n",
       "      <td>6</td>\n",
       "      <td>72139</td>\n",
       "    </tr>\n",
       "  </tbody>\n",
       "</table>\n",
       "</div>"
      ],
      "text/plain": [
       "                 Name     Sex Ticket   Cabin Embarked\n",
       "count          100000  100000  95377   32134    99750\n",
       "unique          92144       2  75331   26992        3\n",
       "top     Johnson, John    male   A/5   C19828        S\n",
       "freq               31   56114    602       6    72139"
      ]
     },
     "execution_count": 367,
     "metadata": {},
     "output_type": "execute_result"
    }
   ],
   "source": [
    "data_titanic.describe(include=[object]) "
   ]
  },
  {
   "cell_type": "markdown",
   "id": "81ca82f9",
   "metadata": {},
   "source": [
    "Глядя на эти данные можем сделать некоторые предварительные выводы по этим данным:\n",
    "\n",
    "-в базе больше всего человек с именем Johnson, John, упоминается 31 раз\n",
    "\n",
    "-на Титанике больше всего было мужчин, их было 56114\n",
    "\n",
    "-больше всего человек село на Титаник в Саунгемптоне, их было 72139 человек"
   ]
  },
  {
   "cell_type": "markdown",
   "id": "110f3013",
   "metadata": {},
   "source": [
    "Проверим есть ли в наших данных дубликаты:"
   ]
  },
  {
   "cell_type": "code",
   "execution_count": 368,
   "id": "bf78cbb9",
   "metadata": {},
   "outputs": [
    {
     "data": {
      "text/plain": [
       "False"
      ]
     },
     "execution_count": 368,
     "metadata": {},
     "output_type": "execute_result"
    }
   ],
   "source": [
    "True in data_titanic.duplicated().to_numpy()"
   ]
  },
  {
   "cell_type": "markdown",
   "id": "99b2428b",
   "metadata": {},
   "source": [
    "Дубликатов в базе обноружено не было."
   ]
  },
  {
   "cell_type": "markdown",
   "id": "5408eca5",
   "metadata": {},
   "source": [
    "# Data exploration"
   ]
  },
  {
   "cell_type": "markdown",
   "id": "5fcd9ec6",
   "metadata": {},
   "source": [
    "Исследовательский анализ данных можно разделить на 4 основных типа задач:\n",
    "\n",
    "    -Исследование каждой отдельной переменной\n",
    "    -Оценка взаимосвязи между каждой переменной и целевой переменной\n",
    "    -Оценка взаимодействия между переменными\n",
    "    -Исследование данных во многих измерениях"
   ]
  },
  {
   "cell_type": "markdown",
   "id": "5e0ba8d4",
   "metadata": {},
   "source": [
    "## Исследование каждой отдельной переменной"
   ]
  },
  {
   "cell_type": "markdown",
   "id": "6d66b9a8",
   "metadata": {},
   "source": [
    "Начнем с исследования переменной Survived:"
   ]
  },
  {
   "cell_type": "code",
   "execution_count": 369,
   "id": "8cd24cf5",
   "metadata": {},
   "outputs": [
    {
     "data": {
      "image/png": "[encoded data removed]",
      "text/plain": [
       "<Figure size 600x400 with 1 Axes>"
      ]
     },
     "metadata": {},
     "output_type": "display_data"
    }
   ],
   "source": [
    "plt.figure(figsize=(6,4))\n",
    "sns.countplot(x=data_titanic['Survived'])\n",
    "plt.show()"
   ]
  },
  {
   "cell_type": "markdown",
   "id": "4fb2449d",
   "metadata": {},
   "source": [
    "Можем наблюдать что погибших было больше чем выживших."
   ]
  },
  {
   "cell_type": "markdown",
   "id": "4a6679b6",
   "metadata": {},
   "source": [
    "Следующая переменная которую ислледуем будет Pclass:"
   ]
  },
  {
   "cell_type": "code",
   "execution_count": 370,
   "id": "24a52744",
   "metadata": {
    "scrolled": true
   },
   "outputs": [
    {
     "data": {
      "image/png": "[encoded data removed]",
      "text/plain": [
       "<Figure size 600x300 with 1 Axes>"
      ]
     },
     "metadata": {},
     "output_type": "display_data"
    }
   ],
   "source": [
    "plt.figure(figsize=(6,3))\n",
    "sns.countplot(x=data_titanic['Pclass'])\n",
    "plt.show()"
   ]
  },
  {
   "cell_type": "markdown",
   "id": "b9dad67e",
   "metadata": {},
   "source": [
    "Можем заметить что больше всего пассажиров ехало в 3 Классе, и меньше всего во 2 Классе."
   ]
  },
  {
   "cell_type": "markdown",
   "id": "49286f55",
   "metadata": {},
   "source": [
    "Следующая переменная которую ислледуем будет Sex:"
   ]
  },
  {
   "cell_type": "code",
   "execution_count": 371,
   "id": "f3d9f7be",
   "metadata": {},
   "outputs": [
    {
     "data": {
      "image/png": "[encoded data removed]",
      "text/plain": [
       "<Figure size 600x400 with 1 Axes>"
      ]
     },
     "metadata": {},
     "output_type": "display_data"
    }
   ],
   "source": [
    "plt.figure(figsize=(6,4))\n",
    "sns.countplot(x=data_titanic['Sex'])\n",
    "plt.show()"
   ]
  },
  {
   "cell_type": "markdown",
   "id": "f1fabc75",
   "metadata": {},
   "source": [
    "Видим, что мужчин на Титанике было больше чем женщин"
   ]
  },
  {
   "cell_type": "markdown",
   "id": "7d6d43f7",
   "metadata": {},
   "source": [
    "Следующая переменная которую ислледуем будет Age:\n",
    "    \n",
    "Построим гистограмму, распределение и boxplot, а так же посмотри статистические данные по переменной."
   ]
  },
  {
   "cell_type": "code",
   "execution_count": 372,
   "id": "09523f4c",
   "metadata": {},
   "outputs": [
    {
     "name": "stderr",
     "output_type": "stream",
     "text": [
      "C:\\ProgramData\\Anaconda3\\lib\\site-packages\\seaborn\\distributions.py:2619: FutureWarning: `distplot` is a deprecated function and will be removed in a future version. Please adapt your code to use either `displot` (a figure-level function with similar flexibility) or `histplot` (an axes-level function for histograms).\n",
      "  warnings.warn(msg, FutureWarning)\n"
     ]
    },
    {
     "data": {
      "image/png": "[encoded data removed]",
      "text/plain": [
       "<Figure size 1200x400 with 1 Axes>"
      ]
     },
     "metadata": {},
     "output_type": "display_data"
    },
    {
     "data": {
      "image/png": "[encoded data removed]",
      "text/plain": [
       "<Figure size 1200x400 with 1 Axes>"
      ]
     },
     "metadata": {},
     "output_type": "display_data"
    },
    {
     "data": {
      "image/png": "[encoded data removed]",
      "text/plain": [
       "<Figure size 500x800 with 1 Axes>"
      ]
     },
     "metadata": {},
     "output_type": "display_data"
    }
   ],
   "source": [
    "plt.figure(figsize=(12,4))\n",
    "sns.distplot(a=data_titanic['Age'], kde=False)\n",
    "plt.axvline(x=data_titanic.Age.mean(), linewidth=3, color='g', label=\"mean\", alpha=0.5)\n",
    "plt.axvline(x=data_titanic.Age.median(), linewidth=3, color='r', label=\"median\", alpha=0.5)\n",
    "plt.title(\"Histogram of Age\")\n",
    "plt.legend([\"mean\", \"median\"])\n",
    "plt.show()\n",
    "plt.figure(figsize=(12,4))\n",
    "sns.kdeplot(data=data_titanic['Age'], shade=True)\n",
    "plt.title(\"Distribution of Age\")\n",
    "plt.show()\n",
    "plt.figure(figsize=(5, 8))\n",
    "sns.boxplot(y=\"Age\",data=data_titanic)\n",
    "plt.ylabel(\"Age\", size=14)\n",
    "plt.title(\"Age\", size=18)\n",
    "plt.show()"
   ]
  },
  {
   "cell_type": "code",
   "execution_count": 373,
   "id": "55da3bc8",
   "metadata": {},
   "outputs": [
    {
     "data": {
      "text/plain": [
       "min         0.080000\n",
       "max        87.000000\n",
       "var       324.345295\n",
       "std        18.009589\n",
       "mean       38.355472\n",
       "median     38.355472\n",
       "Name: Age, dtype: float64"
      ]
     },
     "execution_count": 373,
     "metadata": {},
     "output_type": "execute_result"
    }
   ],
   "source": [
    "data_titanic['Age'].agg([\"min\", \"max\", \"var\", \"std\",'mean','median'])"
   ]
  },
  {
   "cell_type": "markdown",
   "id": "8daed073",
   "metadata": {},
   "source": [
    "Видим что медиана среднее и мода равны одному значению и равны 38.355472 годам.\n",
    "\n",
    "По распределению можем заменить что оно 4-х модальное."
   ]
  },
  {
   "cell_type": "markdown",
   "id": "7a352318",
   "metadata": {},
   "source": [
    "Следующая переменная которую ислледуем будет SibSp:"
   ]
  },
  {
   "cell_type": "code",
   "execution_count": 374,
   "id": "4f341022",
   "metadata": {},
   "outputs": [
    {
     "data": {
      "image/png": "[encoded data removed]",
      "text/plain": [
       "<Figure size 600x400 with 1 Axes>"
      ]
     },
     "metadata": {},
     "output_type": "display_data"
    },
    {
     "data": {
      "text/plain": [
       "SibSp\n",
       "0    73308\n",
       "1    19758\n",
       "2     3703\n",
       "3     1635\n",
       "4     1168\n",
       "5      132\n",
       "8      296\n",
       "dtype: int64"
      ]
     },
     "execution_count": 374,
     "metadata": {},
     "output_type": "execute_result"
    }
   ],
   "source": [
    "plt.figure(figsize=(6,4))\n",
    "sns.countplot(x=data_titanic['SibSp'])\n",
    "plt.title(\"Count by SibSp\")\n",
    "plt.show()\n",
    "data_titanic.groupby('SibSp').size()"
   ]
  },
  {
   "cell_type": "markdown",
   "id": "aac38643",
   "metadata": {},
   "source": [
    "Можем наблюдать, что количество братьев и сестер/супругов на борту Титаника было максимально равно нулю, а минимально 5."
   ]
  },
  {
   "cell_type": "markdown",
   "id": "b1f96f00",
   "metadata": {},
   "source": [
    "Следующая переменная которую ислледуем будет Parch."
   ]
  },
  {
   "cell_type": "code",
   "execution_count": 375,
   "id": "32adad3b",
   "metadata": {},
   "outputs": [
    {
     "data": {
      "image/png": "[encoded data removed]",
      "text/plain": [
       "<Figure size 600x400 with 1 Axes>"
      ]
     },
     "metadata": {},
     "output_type": "display_data"
    },
    {
     "data": {
      "text/plain": [
       "Parch\n",
       "0    73540\n",
       "1    12996\n",
       "2    11236\n",
       "3      983\n",
       "4      446\n",
       "5      331\n",
       "6      204\n",
       "9      264\n",
       "dtype: int64"
      ]
     },
     "execution_count": 375,
     "metadata": {},
     "output_type": "execute_result"
    }
   ],
   "source": [
    "plt.figure(figsize=(6,4))\n",
    "sns.countplot(x=data_titanic['Parch'])\n",
    "plt.title(\"Count by Parch\")\n",
    "plt.show()\n",
    "data_titanic.groupby('Parch').size()"
   ]
  },
  {
   "cell_type": "markdown",
   "id": "73908a7e",
   "metadata": {},
   "source": [
    "Можем наблюдать, что родителей/детей на борту Титаника было максимально равно нулю, а минимально 6."
   ]
  },
  {
   "cell_type": "markdown",
   "id": "64b42012",
   "metadata": {},
   "source": [
    "Следующая переменная которую ислледуем будет Fare:\n",
    "\n",
    "Построим гистограмму, распределение и boxplot, а так же посмотри статистические данные по переменной."
   ]
  },
  {
   "cell_type": "code",
   "execution_count": 376,
   "id": "c103d0f8",
   "metadata": {},
   "outputs": [
    {
     "name": "stderr",
     "output_type": "stream",
     "text": [
      "C:\\ProgramData\\Anaconda3\\lib\\site-packages\\seaborn\\distributions.py:2619: FutureWarning: `distplot` is a deprecated function and will be removed in a future version. Please adapt your code to use either `displot` (a figure-level function with similar flexibility) or `histplot` (an axes-level function for histograms).\n",
      "  warnings.warn(msg, FutureWarning)\n"
     ]
    },
    {
     "data": {
      "image/png": "[encoded data removed]",
      "text/plain": [
       "<Figure size 1200x400 with 1 Axes>"
      ]
     },
     "metadata": {},
     "output_type": "display_data"
    },
    {
     "data": {
      "image/png": "[encoded data removed]",
      "text/plain": [
       "<Figure size 1200x400 with 1 Axes>"
      ]
     },
     "metadata": {},
     "output_type": "display_data"
    },
    {
     "data": {
      "image/png": "[encoded data removed]",
      "text/plain": [
       "<Figure size 500x800 with 1 Axes>"
      ]
     },
     "metadata": {},
     "output_type": "display_data"
    }
   ],
   "source": [
    "plt.figure(figsize=(12,4))\n",
    "sns.distplot(a=data_titanic['Fare'], kde=False)\n",
    "plt.axvline(x=data_titanic.Fare.mean(), linewidth=3, color='g', label=\"mean\", alpha=0.5)\n",
    "plt.axvline(x=data_titanic.Fare.median(), linewidth=3, color='r', label=\"median\", alpha=0.5)\n",
    "plt.title(\"Histogram of Fare\")\n",
    "plt.legend([\"mean\", \"median\"])\n",
    "plt.show()\n",
    "plt.figure(figsize=(12,4))\n",
    "sns.kdeplot(data=data_titanic['Fare'], shade=True)\n",
    "plt.title(\"Distribution of Fare\")\n",
    "plt.show()\n",
    "plt.figure(figsize=(5, 8))\n",
    "sns.boxplot(y=\"Fare\",data=data_titanic)\n",
    "plt.ylabel(\"Fare\", size=14)\n",
    "plt.title(\"Fare\", size=18)\n",
    "plt.show()"
   ]
  },
  {
   "cell_type": "code",
   "execution_count": 377,
   "id": "2a5c679c",
   "metadata": {},
   "outputs": [
    {
     "data": {
      "text/plain": [
       "min          0.680000\n",
       "max        744.660000\n",
       "var       4837.485681\n",
       "std         69.552036\n",
       "mean        43.929065\n",
       "median      24.470000\n",
       "Name: Fare, dtype: float64"
      ]
     },
     "execution_count": 377,
     "metadata": {},
     "output_type": "execute_result"
    }
   ],
   "source": [
    "data_titanic['Fare'].agg([\"min\", \"max\", \"var\", \"std\",'mean','median'])"
   ]
  },
  {
   "cell_type": "markdown",
   "id": "5972ed56",
   "metadata": {},
   "source": [
    "Можем заметить, что медиана меньше среднего и равны соотвественно 24,47 и 43,92 доллара.\n",
    "\n",
    "Максимальная цена равно 744,66 доллара, а минимальная 68 центов.\n",
    "\n",
    "Распределение имеет positive skewness."
   ]
  },
  {
   "cell_type": "markdown",
   "id": "f6709c3b",
   "metadata": {},
   "source": [
    "Следующая переменная которую ислледуем будет Cabin. Мы возьмем первую букву кабины пассажира для оценки."
   ]
  },
  {
   "cell_type": "code",
   "execution_count": 378,
   "id": "a5c7640c",
   "metadata": {},
   "outputs": [
    {
     "data": {
      "image/png": "[encoded data removed]",
      "text/plain": [
       "<Figure size 600x400 with 1 Axes>"
      ]
     },
     "metadata": {},
     "output_type": "display_data"
    }
   ],
   "source": [
    "plt.figure(figsize=(6,4))\n",
    "sns.countplot(x=data_titanic['Cabin'].str[:1])\n",
    "plt.title(\"Count by first letter of Cabin\")\n",
    "plt.show()"
   ]
  },
  {
   "cell_type": "markdown",
   "id": "9717d4c8",
   "metadata": {},
   "source": [
    "Можем наблюдать, что больше всего человек жили в кабине с буквой С и меньше всего с кабиной с буквой T."
   ]
  },
  {
   "cell_type": "markdown",
   "id": "e1cd73b0",
   "metadata": {},
   "source": [
    "Следующая переменная которую ислледуем будет Embarked."
   ]
  },
  {
   "cell_type": "code",
   "execution_count": 379,
   "id": "78c2593e",
   "metadata": {},
   "outputs": [
    {
     "data": {
      "image/png": "[encoded data removed]",
      "text/plain": [
       "<Figure size 600x400 with 1 Axes>"
      ]
     },
     "metadata": {},
     "output_type": "display_data"
    }
   ],
   "source": [
    "plt.figure(figsize=(6,4))\n",
    "sns.countplot(x=data_titanic['Embarked'])\n",
    "plt.title(\"Count by Embarked\")\n",
    "plt.show()"
   ]
  },
  {
   "cell_type": "markdown",
   "id": "7e9f98d5",
   "metadata": {},
   "source": [
    "Можем наблюдать, что больше всего пассажиров отправились из Саунгемптона, а меньше всего из Квинстона."
   ]
  },
  {
   "cell_type": "code",
   "execution_count": 380,
   "id": "2417286d",
   "metadata": {},
   "outputs": [],
   "source": [
    "#plt.figure(figsize=(30,30))\n",
    "#plt.title(\"Average Arrival Delay for Spirit Airlines Flights, by Month\")\n",
    "#sns.countplot(x=data_titanic['Sex'], hue=data_titanic['Survived'])\n",
    "#plt.show()\n",
    "#sns.distplot(a=data_titanic['Age'], kde=False)\n",
    "#plt.show()\n",
    "#plt.figure(figsize=(15,15))\n",
    "#sns.regplot(x=data_titanic['Age'], y=data_titanic['Fare'])\n",
    "#sns.distplot(a=data_titanic['Fare'], kde=False)\n",
    "#plt.show()"
   ]
  },
  {
   "cell_type": "markdown",
   "id": "034945c8",
   "metadata": {},
   "source": [
    "# Summary"
   ]
  },
  {
   "cell_type": "code",
   "execution_count": 381,
   "id": "72e3fb13",
   "metadata": {},
   "outputs": [
    {
     "ename": "NameError",
     "evalue": "name 'data' is not defined",
     "output_type": "error",
     "traceback": [
      "\u001b[1;31m---------------------------------------------------------------------------\u001b[0m",
      "\u001b[1;31mNameError\u001b[0m                                 Traceback (most recent call last)",
      "\u001b[1;32mC:\\Users\\CD86~1\\AppData\\Local\\Temp/ipykernel_14984/391604064.py\u001b[0m in \u001b[0;36m<module>\u001b[1;34m\u001b[0m\n\u001b[1;32m----> 1\u001b[1;33m \u001b[0mdata\u001b[0m\u001b[1;33m\u001b[0m\u001b[1;33m\u001b[0m\u001b[0m\n\u001b[0m",
      "\u001b[1;31mNameError\u001b[0m: name 'data' is not defined"
     ]
    }
   ],
   "source": [
    "data"
   ]
  },
  {
   "cell_type": "code",
   "execution_count": null,
   "id": "4f26bc36",
   "metadata": {},
   "outputs": [],
   "source": []
  }
 ],
 "metadata": {
  "kernelspec": {
   "display_name": "Python 3 (ipykernel)",
   "language": "python",
   "name": "python3"
  },
  "language_info": {
   "codemirror_mode": {
    "name": "ipython",
    "version": 3
   },
   "file_extension": ".py",
   "mimetype": "text/x-python",
   "name": "python",
   "nbconvert_exporter": "python",
   "pygments_lexer": "ipython3",
   "version": "3.9.7"
  },
  "toc": {
   "base_numbering": 1,
   "nav_menu": {},
   "number_sections": true,
   "sideBar": true,
   "skip_h1_title": false,
   "title_cell": "Table of Contents",
   "title_sidebar": "Contents",
   "toc_cell": false,
   "toc_position": {},
   "toc_section_display": true,
   "toc_window_display": false
  }
 },
 "nbformat": 4,
 "nbformat_minor": 5
}
